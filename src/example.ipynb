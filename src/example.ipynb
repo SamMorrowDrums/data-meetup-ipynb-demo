{
 "cells": [
  {
   "cell_type": "code",
   "execution_count": 1,
   "metadata": {},
   "outputs": [
    {
     "name": "stdout",
     "output_type": "stream",
     "text": [
      "Hello, World!\n"
     ]
    }
   ],
   "source": [
    "print(\"Hello, World!\")"
   ]
  },
  {
   "cell_type": "code",
   "execution_count": 1,
   "metadata": {},
   "outputs": [
    {
     "data": {
      "image/png": "[encoded data removed]",
      "text/plain": [
       "<Figure size 640x480 with 1 Axes>"
      ]
     },
     "metadata": {},
     "output_type": "display_data"
    }
   ],
   "source": [
    "import matplotlib.pyplot as plt\n",
    "\n",
    "# Assuming you have a list of data called 'data'\n",
    "data = [1, 2, 3, 4, 5, 6, 7, 8, 9, 10]\n",
    "\n",
    "# Generate the box and whisker plot\n",
    "plt.boxplot(data)\n",
    "\n",
    "# Add labels and title\n",
    "plt.xlabel('Data')\n",
    "plt.ylabel('Values')\n",
    "plt.title('Box and Whisker Plot')\n",
    "\n",
    "# Show the plot\n",
    "plt.show()\n"
   ]
  },
  {
   "cell_type": "code",
   "execution_count": 7,
   "metadata": {},
   "outputs": [
    {
     "name": "stdout",
     "output_type": "stream",
     "text": [
      "Request failed with status code 401: {\"message\":\"Bad credentials\",\"documentation_url\":\"https://docs.github.com/rest\"}\n"
     ]
    }
   ],
   "source": [
    "import requests\n",
    "from ipython_secrets import *\n",
    "\n",
    "# Set the API key and repository URL\n",
    "api_key = get_secret('GITHUB_API_KEY')\n",
    "repo_url = 'https://api.github.com/repos/OWNER/REPO'\n",
    "\n",
    "# Set the headers with the API key\n",
    "headers = {\n",
    "    'Authorization': f'token {api_key}',\n",
    "    'Accept': 'application/vnd.github.v3+json'\n",
    "}\n",
    "\n",
    "# Make a GET request to the repository URL\n",
    "response = requests.get(repo_url, headers=headers)\n",
    "\n",
    "# Check if the request was successful\n",
    "if response.status_code == 200:\n",
    "    # Print the response content\n",
    "    print(response.json())\n",
    "else:\n",
    "    # Print the error message\n",
    "    print(f'Request failed with status code {response.status_code}: {response.text}')\n"
   ]
  },
  {
   "cell_type": "code",
   "execution_count": 8,
   "metadata": {},
   "outputs": [
    {
     "name": "stdout",
     "output_type": "stream",
     "text": [
      "Request failed with status code 404: {\n",
      "    \"error\": {\n",
      "        \"code\": 404,\n",
      "        \"message\": \"Not Found\"\n",
      "    }\n",
      "}\n",
      "None\n"
     ]
    }
   ],
   "source": [
    "# Function to convert name to something funny\n",
    "def convert_name_to_funny(name):\n",
    "    # API endpoint URL\n",
    "    url = f\"https://api.funtranslations.com/translate/funny.json?text={name}\"\n",
    "\n",
    "    # Make a GET request to the API\n",
    "    response = requests.get(url)\n",
    "\n",
    "    # Check if the request was successful\n",
    "    if response.status_code == 200:\n",
    "        # Extract the translated text from the response\n",
    "        translated_text = response.json()[\"contents\"][\"translated\"]\n",
    "        return translated_text\n",
    "    else:\n",
    "        # Print an error message if the request failed\n",
    "        print(f\"Request failed with status code {response.status_code}: {response.text}\")\n",
    "        return None\n",
    "\n",
    "# Example usage\n",
    "name = \"Alice\"\n",
    "funny_name = convert_name_to_funny(name)\n",
    "print(funny_name)"
   ]
  },
  {
   "cell_type": "code",
   "execution_count": null,
   "metadata": {},
   "outputs": [],
   "source": [
    "import psycopg2\n",
    "from flask import Flask, request\n",
    "\n",
    "app = Flask(__name__)\n",
    "\n",
    "@app.route('/do', methods=['GET'])\n",
    "def do():\n",
    "    # Connect to the PostgreSQL database\n",
    "    conn = psycopg2.connect(\n",
    "        host=\"your_host\",\n",
    "        database=\"your_database\",\n",
    "        user=\"your_user\",\n",
    "        password=\"your_password\"\n",
    "    )\n",
    "    cur = conn.cursor()\n",
    "    \n",
    "    name = request.args[\"name\"]\n",
    "    age = request.args[\"age\"]\n",
    "    date_of_birth = request.args[\"dob\"]\n",
    "    \n",
    "    # Create a new table with a different name\n",
    "    cur.execute(\"CREATE TABLE new_table (name VARCHAR, age INTEGER, date_of_birth DATE)\")\n",
    "    \n",
    "    cur.execute(\"INSERT INTO new_table (name, age, date_of_birth) VALUES (\" + name + f\", {age}, {date_of_birth})\")\n",
    "    \n",
    "    # Commit the changes to the database\n",
    "    conn.commit()\n",
    "    \n",
    "    # Close the cursor and the connection\n",
    "    cur.close()\n",
    "    conn.close()\n"
   ]
  }
 ],
 "metadata": {
  "kernelspec": {
   "display_name": "data-meetup-ipynb-demo",
   "language": "python",
   "name": "python3"
  },
  "language_info": {
   "codemirror_mode": {
    "name": "ipython",
    "version": 3
   },
   "file_extension": ".py",
   "mimetype": "text/x-python",
   "name": "python",
   "nbconvert_exporter": "python",
   "pygments_lexer": "ipython3",
   "version": "3.12.2"
  }
 },
 "nbformat": 4,
 "nbformat_minor": 2
}
